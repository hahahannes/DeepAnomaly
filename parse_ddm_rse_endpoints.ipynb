{
 "cells": [
  {
   "cell_type": "code",
   "execution_count": 53,
   "metadata": {
    "collapsed": true
   },
   "outputs": [],
   "source": [
    "import numpy as np\n",
    "import pandas as pd\n",
    "import requests\n",
    "# import urllib as ulib"
   ]
  },
  {
   "cell_type": "code",
   "execution_count": 54,
   "metadata": {
    "collapsed": false
   },
   "outputs": [
    {
     "name": "stdout",
     "output_type": "stream",
     "text": [
      "<class 'str'> 3997123\n"
     ]
    }
   ],
   "source": [
    "link = 'http://atlas-agis-api.cern.ch/request/ddmendpoint/query/list/?json&'\n",
    "f = requests.get(link)\n",
    "# myfile = f.read()\n",
    "print(type(f.text), len(f.text))"
   ]
  },
  {
   "cell_type": "code",
   "execution_count": 55,
   "metadata": {
    "collapsed": false
   },
   "outputs": [],
   "source": [
    "# f.text"
   ]
  },
  {
   "cell_type": "code",
   "execution_count": 56,
   "metadata": {
    "collapsed": false
   },
   "outputs": [],
   "source": [
    "# f.json()"
   ]
  },
  {
   "cell_type": "code",
   "execution_count": 57,
   "metadata": {
    "collapsed": false
   },
   "outputs": [
    {
     "data": {
      "text/plain": [
       "(list, 939, dict)"
      ]
     },
     "execution_count": 57,
     "metadata": {},
     "output_type": "execute_result"
    }
   ],
   "source": [
    "data = f.json()\n",
    "type(data), len(data), type(data[0])\n"
   ]
  },
  {
   "cell_type": "code",
   "execution_count": 58,
   "metadata": {
    "collapsed": false
   },
   "outputs": [
    {
     "data": {
      "text/html": [
       "<div>\n",
       "<table border=\"1\" class=\"dataframe\">\n",
       "  <thead>\n",
       "    <tr style=\"text-align: right;\">\n",
       "      <th></th>\n",
       "      <th>aprotocols</th>\n",
       "      <th>arprotocols</th>\n",
       "      <th>cloud</th>\n",
       "      <th>country</th>\n",
       "      <th>datapolicies</th>\n",
       "      <th>ddmgroups</th>\n",
       "      <th>domain</th>\n",
       "      <th>endpoint</th>\n",
       "      <th>id</th>\n",
       "      <th>is_cache</th>\n",
       "      <th>...</th>\n",
       "      <th>site</th>\n",
       "      <th>site_state</th>\n",
       "      <th>space_method</th>\n",
       "      <th>space_usage_url</th>\n",
       "      <th>state</th>\n",
       "      <th>state_comment</th>\n",
       "      <th>state_update</th>\n",
       "      <th>tier_level</th>\n",
       "      <th>token</th>\n",
       "      <th>type</th>\n",
       "    </tr>\n",
       "  </thead>\n",
       "  <tbody>\n",
       "    <tr>\n",
       "      <th>0</th>\n",
       "      <td>{'delete_wan': [['davs://head01.aglt2.org:2880...</td>\n",
       "      <td>{}</td>\n",
       "      <td>US</td>\n",
       "      <td>USA</td>\n",
       "      <td>[T0Disk, Nucleus]</td>\n",
       "      <td>[USTIER2DS, USASITES, USTIER2S, UMICH, TIER2DS...</td>\n",
       "      <td>.*aglt2.org.*/atlascalibdisk/.*</td>\n",
       "      <td>/pnfs/aglt2.org/atlascalibdisk/</td>\n",
       "      <td>1469</td>\n",
       "      <td>False</td>\n",
       "      <td>...</td>\n",
       "      <td>AGLT2</td>\n",
       "      <td>ACTIVE</td>\n",
       "      <td>other</td>\n",
       "      <td>gsiftp://dcdum02.aglt2.org:2811/pnfs/aglt2.org...</td>\n",
       "      <td>ACTIVE</td>\n",
       "      <td>NaN</td>\n",
       "      <td>NaN</td>\n",
       "      <td>2</td>\n",
       "      <td>ATLASCALIBDISK</td>\n",
       "      <td>CALIBDISK</td>\n",
       "    </tr>\n",
       "    <tr>\n",
       "      <th>1</th>\n",
       "      <td>{'delete_wan': [['gsiftp://dcdum02.aglt2.org',...</td>\n",
       "      <td>{}</td>\n",
       "      <td>US</td>\n",
       "      <td>USA</td>\n",
       "      <td>[T0Disk, Nucleus]</td>\n",
       "      <td>[USTIER2DS, USASITES, USTIER2S, UMICH, TIER2DS...</td>\n",
       "      <td>.*aglt2.org.*/atlasdatadisk/.*</td>\n",
       "      <td>/pnfs/aglt2.org/atlasdatadisk/</td>\n",
       "      <td>1194</td>\n",
       "      <td>False</td>\n",
       "      <td>...</td>\n",
       "      <td>AGLT2</td>\n",
       "      <td>ACTIVE</td>\n",
       "      <td>other</td>\n",
       "      <td>gsiftp://dcdum02.aglt2.org:2811/pnfs/aglt2.org...</td>\n",
       "      <td>ACTIVE</td>\n",
       "      <td>NaN</td>\n",
       "      <td>NaN</td>\n",
       "      <td>2</td>\n",
       "      <td>ATLASDATADISK</td>\n",
       "      <td>DATADISK</td>\n",
       "    </tr>\n",
       "    <tr>\n",
       "      <th>2</th>\n",
       "      <td>{}</td>\n",
       "      <td>{}</td>\n",
       "      <td>US</td>\n",
       "      <td>USA</td>\n",
       "      <td>[T0Disk, Nucleus]</td>\n",
       "      <td>[USTIER2DS, USASITES, USTIER2S, UMICH, TIER2DS...</td>\n",
       "      <td>.*aglt2.org.*/atlashotdisk/.*</td>\n",
       "      <td>/pnfs/aglt2.org/atlashotdisk/</td>\n",
       "      <td>1298</td>\n",
       "      <td>False</td>\n",
       "      <td>...</td>\n",
       "      <td>AGLT2</td>\n",
       "      <td>ACTIVE</td>\n",
       "      <td>lcg-stmd</td>\n",
       "      <td></td>\n",
       "      <td>DISABLED</td>\n",
       "      <td>NaN</td>\n",
       "      <td>2013-08-19T22:43:36.883089</td>\n",
       "      <td>2</td>\n",
       "      <td>ATLASHOTDISK</td>\n",
       "      <td></td>\n",
       "    </tr>\n",
       "    <tr>\n",
       "      <th>3</th>\n",
       "      <td>{'delete_wan': [['davs://head01.aglt2.org:2880...</td>\n",
       "      <td>{}</td>\n",
       "      <td>US</td>\n",
       "      <td>USA</td>\n",
       "      <td>[T0Disk, Nucleus]</td>\n",
       "      <td>[USTIER2DS, USASITES, USTIER2S, UMICH, TIER2DS...</td>\n",
       "      <td>.*aglt2.org.*/atlaslocalgroupdisk/.*</td>\n",
       "      <td>/pnfs/aglt2.org/atlaslocalgroupdisk/</td>\n",
       "      <td>1524</td>\n",
       "      <td>False</td>\n",
       "      <td>...</td>\n",
       "      <td>AGLT2</td>\n",
       "      <td>ACTIVE</td>\n",
       "      <td>other</td>\n",
       "      <td>gsiftp://dcdum02.aglt2.org:2811/pnfs/aglt2.org...</td>\n",
       "      <td>ACTIVE</td>\n",
       "      <td>NaN</td>\n",
       "      <td>NaN</td>\n",
       "      <td>2</td>\n",
       "      <td>ATLASLOCALGROUPDISK</td>\n",
       "      <td>LOCALGROUPDISK</td>\n",
       "    </tr>\n",
       "    <tr>\n",
       "      <th>4</th>\n",
       "      <td>{'delete_wan': [['davs://head01.aglt2.org:2880...</td>\n",
       "      <td>{}</td>\n",
       "      <td>US</td>\n",
       "      <td>USA</td>\n",
       "      <td>[T0Disk, Nucleus]</td>\n",
       "      <td>[USTIER2DS, USTIER2S, UMICH, TIER2DS, USASITES...</td>\n",
       "      <td>.*aglt2.org.*/atlasgroupdisk/perf-muons/.*</td>\n",
       "      <td>/pnfs/aglt2.org/atlasgroupdisk/perf-muons/</td>\n",
       "      <td>1747</td>\n",
       "      <td>False</td>\n",
       "      <td>...</td>\n",
       "      <td>AGLT2</td>\n",
       "      <td>ACTIVE</td>\n",
       "      <td>other</td>\n",
       "      <td>gsiftp://dcdum02.aglt2.org:2811/pnfs/aglt2.org...</td>\n",
       "      <td>DISABLED</td>\n",
       "      <td>NaN</td>\n",
       "      <td>2017-04-20T09:12:46.864314</td>\n",
       "      <td>2</td>\n",
       "      <td>ATLASGROUPDISK</td>\n",
       "      <td>GROUPDISK</td>\n",
       "    </tr>\n",
       "  </tbody>\n",
       "</table>\n",
       "<p>5 rows × 44 columns</p>\n",
       "</div>"
      ],
      "text/plain": [
       "                                          aprotocols arprotocols cloud  \\\n",
       "0  {'delete_wan': [['davs://head01.aglt2.org:2880...          {}    US   \n",
       "1  {'delete_wan': [['gsiftp://dcdum02.aglt2.org',...          {}    US   \n",
       "2                                                 {}          {}    US   \n",
       "3  {'delete_wan': [['davs://head01.aglt2.org:2880...          {}    US   \n",
       "4  {'delete_wan': [['davs://head01.aglt2.org:2880...          {}    US   \n",
       "\n",
       "  country       datapolicies  \\\n",
       "0     USA  [T0Disk, Nucleus]   \n",
       "1     USA  [T0Disk, Nucleus]   \n",
       "2     USA  [T0Disk, Nucleus]   \n",
       "3     USA  [T0Disk, Nucleus]   \n",
       "4     USA  [T0Disk, Nucleus]   \n",
       "\n",
       "                                           ddmgroups  \\\n",
       "0  [USTIER2DS, USASITES, USTIER2S, UMICH, TIER2DS...   \n",
       "1  [USTIER2DS, USASITES, USTIER2S, UMICH, TIER2DS...   \n",
       "2  [USTIER2DS, USASITES, USTIER2S, UMICH, TIER2DS...   \n",
       "3  [USTIER2DS, USASITES, USTIER2S, UMICH, TIER2DS...   \n",
       "4  [USTIER2DS, USTIER2S, UMICH, TIER2DS, USASITES...   \n",
       "\n",
       "                                       domain  \\\n",
       "0             .*aglt2.org.*/atlascalibdisk/.*   \n",
       "1              .*aglt2.org.*/atlasdatadisk/.*   \n",
       "2               .*aglt2.org.*/atlashotdisk/.*   \n",
       "3        .*aglt2.org.*/atlaslocalgroupdisk/.*   \n",
       "4  .*aglt2.org.*/atlasgroupdisk/perf-muons/.*   \n",
       "\n",
       "                                     endpoint    id is_cache       ...        \\\n",
       "0             /pnfs/aglt2.org/atlascalibdisk/  1469    False       ...         \n",
       "1              /pnfs/aglt2.org/atlasdatadisk/  1194    False       ...         \n",
       "2               /pnfs/aglt2.org/atlashotdisk/  1298    False       ...         \n",
       "3        /pnfs/aglt2.org/atlaslocalgroupdisk/  1524    False       ...         \n",
       "4  /pnfs/aglt2.org/atlasgroupdisk/perf-muons/  1747    False       ...         \n",
       "\n",
       "    site site_state space_method  \\\n",
       "0  AGLT2     ACTIVE        other   \n",
       "1  AGLT2     ACTIVE        other   \n",
       "2  AGLT2     ACTIVE     lcg-stmd   \n",
       "3  AGLT2     ACTIVE        other   \n",
       "4  AGLT2     ACTIVE        other   \n",
       "\n",
       "                                     space_usage_url     state state_comment  \\\n",
       "0  gsiftp://dcdum02.aglt2.org:2811/pnfs/aglt2.org...    ACTIVE           NaN   \n",
       "1  gsiftp://dcdum02.aglt2.org:2811/pnfs/aglt2.org...    ACTIVE           NaN   \n",
       "2                                                     DISABLED           NaN   \n",
       "3  gsiftp://dcdum02.aglt2.org:2811/pnfs/aglt2.org...    ACTIVE           NaN   \n",
       "4  gsiftp://dcdum02.aglt2.org:2811/pnfs/aglt2.org...  DISABLED           NaN   \n",
       "\n",
       "                 state_update tier_level                token            type  \n",
       "0                         NaN          2       ATLASCALIBDISK       CALIBDISK  \n",
       "1                         NaN          2        ATLASDATADISK        DATADISK  \n",
       "2  2013-08-19T22:43:36.883089          2         ATLASHOTDISK                  \n",
       "3                         NaN          2  ATLASLOCALGROUPDISK  LOCALGROUPDISK  \n",
       "4  2017-04-20T09:12:46.864314          2       ATLASGROUPDISK       GROUPDISK  \n",
       "\n",
       "[5 rows x 44 columns]"
      ]
     },
     "execution_count": 58,
     "metadata": {},
     "output_type": "execute_result"
    }
   ],
   "source": [
    "data = pd.DataFrame(data)\n",
    "data.head()"
   ]
  },
  {
   "cell_type": "code",
   "execution_count": 59,
   "metadata": {
    "collapsed": false
   },
   "outputs": [
    {
     "name": "stdout",
     "output_type": "stream",
     "text": [
      "<class 'pandas.core.frame.DataFrame'>\n",
      "RangeIndex: 939 entries, 0 to 938\n",
      "Data columns (total 44 columns):\n",
      "aprotocols          939 non-null object\n",
      "arprotocols         939 non-null object\n",
      "cloud               939 non-null object\n",
      "country             939 non-null object\n",
      "datapolicies        939 non-null object\n",
      "ddmgroups           939 non-null object\n",
      "domain              939 non-null object\n",
      "endpoint            939 non-null object\n",
      "id                  939 non-null int64\n",
      "is_cache            939 non-null bool\n",
      "is_deterministic    939 non-null bool\n",
      "is_mkdir            939 non-null bool\n",
      "is_pledged          939 non-null bool\n",
      "is_rucio            939 non-null bool\n",
      "is_tape             939 non-null bool\n",
      "is_volatile         939 non-null bool\n",
      "last_modified       939 non-null object\n",
      "name                939 non-null object\n",
      "objectstores        939 non-null object\n",
      "permissions         939 non-null object\n",
      "phys_groups         939 non-null object\n",
      "protocols           939 non-null object\n",
      "quotas              939 non-null object\n",
      "rc                  939 non-null object\n",
      "rc_country          939 non-null object\n",
      "rc_site             939 non-null object\n",
      "rc_site_state       939 non-null object\n",
      "resource            939 non-null object\n",
      "rprotocols          939 non-null object\n",
      "se                  939 non-null object\n",
      "se_flavour          939 non-null object\n",
      "servedfts           939 non-null object\n",
      "servedlfc           939 non-null object\n",
      "servedrestfts       939 non-null object\n",
      "site                939 non-null object\n",
      "site_state          939 non-null object\n",
      "space_method        939 non-null object\n",
      "space_usage_url     939 non-null object\n",
      "state               939 non-null object\n",
      "state_comment       88 non-null object\n",
      "state_update        483 non-null object\n",
      "tier_level          939 non-null int64\n",
      "token               939 non-null object\n",
      "type                939 non-null object\n",
      "dtypes: bool(7), int64(2), object(35)\n",
      "memory usage: 277.9+ KB\n"
     ]
    }
   ],
   "source": [
    "data.info()"
   ]
  },
  {
   "cell_type": "code",
   "execution_count": 60,
   "metadata": {
    "collapsed": false
   },
   "outputs": [],
   "source": [
    "ddm_endpoints = data['name'].unique()"
   ]
  },
  {
   "cell_type": "code",
   "execution_count": 61,
   "metadata": {
    "collapsed": false
   },
   "outputs": [
    {
     "data": {
      "text/plain": [
       "939"
      ]
     },
     "execution_count": 61,
     "metadata": {},
     "output_type": "execute_result"
    }
   ],
   "source": [
    "len(ddm_endpoints)"
   ]
  },
  {
   "cell_type": "code",
   "execution_count": 62,
   "metadata": {
    "collapsed": false
   },
   "outputs": [
    {
     "data": {
      "text/plain": [
       "(1862550, 27)"
      ]
     },
     "execution_count": 62,
     "metadata": {},
     "output_type": "execute_result"
    }
   ],
   "source": [
    "data = pd.read_csv('atlas_rucio-events-2017.06.01.csv')\n",
    "data.shape"
   ]
  },
  {
   "cell_type": "code",
   "execution_count": 63,
   "metadata": {
    "collapsed": false
   },
   "outputs": [
    {
     "name": "stdout",
     "output_type": "stream",
     "text": [
      "<class 'pandas.core.frame.DataFrame'>\n",
      "RangeIndex: 1862550 entries, 0 to 1862549\n",
      "Data columns (total 27 columns):\n",
      "Unnamed: 0             int64\n",
      "account                float64\n",
      "activity               object\n",
      "bytes                  int64\n",
      "checksum-adler         object\n",
      "checksum-md5           float64\n",
      "dst-rse                object\n",
      "dst-type               object\n",
      "dst-url                object\n",
      "duration               int64\n",
      "guid                   float64\n",
      "name                   object\n",
      "previous-request-id    object\n",
      "protocol               object\n",
      "reason                 float64\n",
      "request-id             object\n",
      "scope                  object\n",
      "src-rse                object\n",
      "src-type               object\n",
      "src-url                object\n",
      "started_at             object\n",
      "submitted_at           object\n",
      "tool-id                object\n",
      "transfer-endpoint      object\n",
      "transfer-id            object\n",
      "transfer-link          object\n",
      "transferred_at         object\n",
      "dtypes: float64(4), int64(3), object(20)\n",
      "memory usage: 383.7+ MB\n"
     ]
    }
   ],
   "source": [
    "data.info()"
   ]
  },
  {
   "cell_type": "code",
   "execution_count": 64,
   "metadata": {
    "collapsed": false
   },
   "outputs": [
    {
     "data": {
      "text/plain": [
       "229"
      ]
     },
     "execution_count": 64,
     "metadata": {},
     "output_type": "execute_result"
    }
   ],
   "source": [
    "sources = data['src-rse'].unique()\n",
    "len(sources)"
   ]
  },
  {
   "cell_type": "code",
   "execution_count": 65,
   "metadata": {
    "collapsed": false
   },
   "outputs": [
    {
     "name": "stdout",
     "output_type": "stream",
     "text": [
      "229\n"
     ]
    }
   ],
   "source": [
    "i=0\n",
    "for source in sources:\n",
    "    if source in ddm_endpoints:\n",
    "        i = i+1\n",
    "    else:\n",
    "        print(source)\n",
    "print(i)"
   ]
  },
  {
   "cell_type": "code",
   "execution_count": 66,
   "metadata": {
    "collapsed": false
   },
   "outputs": [
    {
     "data": {
      "text/plain": [
       "237"
      ]
     },
     "execution_count": 66,
     "metadata": {},
     "output_type": "execute_result"
    }
   ],
   "source": [
    "destinations = data['dst-rse'].unique()\n",
    "len(destinations)"
   ]
  },
  {
   "cell_type": "code",
   "execution_count": 67,
   "metadata": {
    "collapsed": false
   },
   "outputs": [
    {
     "name": "stdout",
     "output_type": "stream",
     "text": [
      "237\n"
     ]
    }
   ],
   "source": [
    "i=0\n",
    "for dst in destinations:\n",
    "    if dst in ddm_endpoints:\n",
    "        i = i+1\n",
    "    else:\n",
    "        print(dst)\n",
    "print(i)"
   ]
  },
  {
   "cell_type": "code",
   "execution_count": 68,
   "metadata": {
    "collapsed": true
   },
   "outputs": [],
   "source": [
    "from sklearn.preprocessing import LabelEncoder"
   ]
  },
  {
   "cell_type": "code",
   "execution_count": 69,
   "metadata": {
    "collapsed": false
   },
   "outputs": [],
   "source": [
    "ddm_endpoints_encoder = LabelEncoder()\n",
    "ddm_endpoints_encoder.fit(ddm_endpoints)\n",
    "np.save('DeepAnomaly/encoders/ddm_rse_endpoints.npy', ddm_endpoints_encoder.classes_)"
   ]
  },
  {
   "cell_type": "code",
   "execution_count": 71,
   "metadata": {
    "collapsed": false
   },
   "outputs": [],
   "source": [
    "ddm_endpoints_encoder.classes_ = np.load('DeepAnomaly/encoders/ddm_rse_endpoints.npy')\n",
    "src = ddm_endpoints_encoder.transform(data['src-rse'])\n",
    "dst = ddm_endpoints_encoder.transform(data['dst-rse'])"
   ]
  },
  {
   "cell_type": "code",
   "execution_count": 74,
   "metadata": {
    "collapsed": false
   },
   "outputs": [
    {
     "ename": "NotFittedError",
     "evalue": "This LabelEncoder instance is not fitted yet. Call 'fit' with appropriate arguments before using this method.",
     "output_type": "error",
     "traceback": [
      "\u001b[0;31m---------------------------------------------------------------------------\u001b[0m",
      "\u001b[0;31mNotFittedError\u001b[0m                            Traceback (most recent call last)",
      "\u001b[0;32m<ipython-input-74-bf67b12054f7>\u001b[0m in \u001b[0;36m<module>\u001b[0;34m()\u001b[0m\n\u001b[1;32m      2\u001b[0m \u001b[0mddm\u001b[0m \u001b[0;34m=\u001b[0m \u001b[0mnp\u001b[0m\u001b[0;34m.\u001b[0m\u001b[0mload\u001b[0m\u001b[0;34m(\u001b[0m\u001b[0;34m'DeepAnomaly/encoders/ddm_endpoints_encoder.npy'\u001b[0m\u001b[0;34m)\u001b[0m\u001b[0;34m\u001b[0m\u001b[0m\n\u001b[1;32m      3\u001b[0m \u001b[0mddm\u001b[0m \u001b[0;34m=\u001b[0m \u001b[0mLabelEncoder\u001b[0m\u001b[0;34m(\u001b[0m\u001b[0;34m)\u001b[0m\u001b[0;34m\u001b[0m\u001b[0m\n\u001b[0;32m----> 4\u001b[0;31m \u001b[0msrc\u001b[0m \u001b[0;34m=\u001b[0m \u001b[0mddm\u001b[0m\u001b[0;34m.\u001b[0m\u001b[0mtransform\u001b[0m\u001b[0;34m(\u001b[0m\u001b[0mdata\u001b[0m\u001b[0;34m[\u001b[0m\u001b[0;34m'src-rse'\u001b[0m\u001b[0;34m]\u001b[0m\u001b[0;34m)\u001b[0m\u001b[0;34m\u001b[0m\u001b[0m\n\u001b[0m\u001b[1;32m      5\u001b[0m \u001b[0mdst\u001b[0m \u001b[0;34m=\u001b[0m \u001b[0mddm\u001b[0m\u001b[0;34m.\u001b[0m\u001b[0mtransform\u001b[0m\u001b[0;34m(\u001b[0m\u001b[0mdata\u001b[0m\u001b[0;34m[\u001b[0m\u001b[0;34m'dst-rse'\u001b[0m\u001b[0;34m]\u001b[0m\u001b[0;34m)\u001b[0m\u001b[0;34m\u001b[0m\u001b[0m\n",
      "\u001b[0;32m/cvmfs/sft.cern.ch/lcg/views/LCG_88Py3/x86_64-slc6-gcc62-opt/lib/python3.5/site-packages/sklearn/preprocessing/label.py\u001b[0m in \u001b[0;36mtransform\u001b[0;34m(self, y)\u001b[0m\n\u001b[1;32m    140\u001b[0m         \u001b[0my\u001b[0m \u001b[0;34m:\u001b[0m \u001b[0marray\u001b[0m\u001b[0;34m-\u001b[0m\u001b[0mlike\u001b[0m \u001b[0mof\u001b[0m \u001b[0mshape\u001b[0m \u001b[0;34m[\u001b[0m\u001b[0mn_samples\u001b[0m\u001b[0;34m]\u001b[0m\u001b[0;34m\u001b[0m\u001b[0m\n\u001b[1;32m    141\u001b[0m         \"\"\"\n\u001b[0;32m--> 142\u001b[0;31m         \u001b[0mcheck_is_fitted\u001b[0m\u001b[0;34m(\u001b[0m\u001b[0mself\u001b[0m\u001b[0;34m,\u001b[0m \u001b[0;34m'classes_'\u001b[0m\u001b[0;34m)\u001b[0m\u001b[0;34m\u001b[0m\u001b[0m\n\u001b[0m\u001b[1;32m    143\u001b[0m \u001b[0;34m\u001b[0m\u001b[0m\n\u001b[1;32m    144\u001b[0m         \u001b[0mclasses\u001b[0m \u001b[0;34m=\u001b[0m \u001b[0mnp\u001b[0m\u001b[0;34m.\u001b[0m\u001b[0munique\u001b[0m\u001b[0;34m(\u001b[0m\u001b[0my\u001b[0m\u001b[0;34m)\u001b[0m\u001b[0;34m\u001b[0m\u001b[0m\n",
      "\u001b[0;32m/cvmfs/sft.cern.ch/lcg/views/LCG_88Py3/x86_64-slc6-gcc62-opt/lib/python3.5/site-packages/sklearn/utils/validation.py\u001b[0m in \u001b[0;36mcheck_is_fitted\u001b[0;34m(estimator, attributes, msg, all_or_any)\u001b[0m\n\u001b[1;32m    676\u001b[0m \u001b[0;34m\u001b[0m\u001b[0m\n\u001b[1;32m    677\u001b[0m     \u001b[0;32mif\u001b[0m \u001b[0;32mnot\u001b[0m \u001b[0mall_or_any\u001b[0m\u001b[0;34m(\u001b[0m\u001b[0;34m[\u001b[0m\u001b[0mhasattr\u001b[0m\u001b[0;34m(\u001b[0m\u001b[0mestimator\u001b[0m\u001b[0;34m,\u001b[0m \u001b[0mattr\u001b[0m\u001b[0;34m)\u001b[0m \u001b[0;32mfor\u001b[0m \u001b[0mattr\u001b[0m \u001b[0;32min\u001b[0m \u001b[0mattributes\u001b[0m\u001b[0;34m]\u001b[0m\u001b[0;34m)\u001b[0m\u001b[0;34m:\u001b[0m\u001b[0;34m\u001b[0m\u001b[0m\n\u001b[0;32m--> 678\u001b[0;31m         \u001b[0;32mraise\u001b[0m \u001b[0mNotFittedError\u001b[0m\u001b[0;34m(\u001b[0m\u001b[0mmsg\u001b[0m \u001b[0;34m%\u001b[0m \u001b[0;34m{\u001b[0m\u001b[0;34m'name'\u001b[0m\u001b[0;34m:\u001b[0m \u001b[0mtype\u001b[0m\u001b[0;34m(\u001b[0m\u001b[0mestimator\u001b[0m\u001b[0;34m)\u001b[0m\u001b[0;34m.\u001b[0m\u001b[0m__name__\u001b[0m\u001b[0;34m}\u001b[0m\u001b[0;34m)\u001b[0m\u001b[0;34m\u001b[0m\u001b[0m\n\u001b[0m\u001b[1;32m    679\u001b[0m \u001b[0;34m\u001b[0m\u001b[0m\n\u001b[1;32m    680\u001b[0m \u001b[0;34m\u001b[0m\u001b[0m\n",
      "\u001b[0;31mNotFittedError\u001b[0m: This LabelEncoder instance is not fitted yet. Call 'fit' with appropriate arguments before using this method."
     ]
    }
   ],
   "source": [
    "# ddm = LabelEncoder()\n",
    "# ddm = np.load('DeepAnomaly/encoders/ddm_endpoints_encoder.npy')\n",
    "# ddm = LabelEncoder()\n",
    "# src = ddm.transform(data['src-rse'])\n",
    "# dst = ddm.transform(data['dst-rse'])"
   ]
  },
  {
   "cell_type": "code",
   "execution_count": null,
   "metadata": {
    "collapsed": true
   },
   "outputs": [],
   "source": []
  }
 ],
 "metadata": {
  "kernelspec": {
   "display_name": "Python 3",
   "language": "python",
   "name": "python3"
  },
  "language_info": {
   "codemirror_mode": {
    "name": "ipython",
    "version": 3
   },
   "file_extension": ".py",
   "mimetype": "text/x-python",
   "name": "python",
   "nbconvert_exporter": "python",
   "pygments_lexer": "ipython3",
   "version": "3.5.2"
  }
 },
 "nbformat": 4,
 "nbformat_minor": 1
}
