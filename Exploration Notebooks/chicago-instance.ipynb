{
 "cells": [
  {
   "cell_type": "code",
   "execution_count": 1,
   "metadata": {
    "collapsed": true
   },
   "outputs": [],
   "source": [
    "#  Dependencies\n",
    "import requests\n",
    "from elasticsearch import Elasticsearch,helpers\n",
    "import numpy as np\n",
    "import uuid\n",
    "import random\n",
    "import json"
   ]
  },
  {
   "cell_type": "code",
   "execution_count": 2,
   "metadata": {
    "collapsed": true
   },
   "outputs": [],
   "source": [
    "es = Elasticsearch(['atlas-kibana.mwt2.org:9200'],\n",
    "                                 timeout=10000)"
   ]
  },
  {
   "cell_type": "code",
   "execution_count": 3,
   "metadata": {
    "collapsed": false
   },
   "outputs": [
    {
     "data": {
      "text/plain": [
       "True"
      ]
     },
     "execution_count": 3,
     "metadata": {},
     "output_type": "execute_result"
    }
   ],
   "source": [
    "es.ping()"
   ]
  },
  {
   "cell_type": "code",
   "execution_count": 4,
   "metadata": {
    "collapsed": false
   },
   "outputs": [
    {
     "name": "stdout",
     "output_type": "stream",
     "text": [
      "{'cluster_name': 'atlas', 'cluster_uuid': 'HvlJZuzTRReL9Gq1KVSIHQ', 'version': {'build_hash': '260387d', 'build_snapshot': False, 'number': '5.5.0', 'lucene_version': '6.6.0', 'build_date': '2017-06-30T23:16:05.735Z'}, 'tagline': 'You Know, for Search', 'name': 'es-head02-master'} \n",
      " {'active_shards_percent_as_number': 100.0, 'active_primary_shards': 12629, 'number_of_nodes': 10, 'status': 'green', 'delayed_unassigned_shards': 0, 'initializing_shards': 0, 'relocating_shards': 0, 'timed_out': False, 'unassigned_shards': 0, 'task_max_waiting_in_queue_millis': 0, 'number_of_in_flight_fetch': 0, 'number_of_pending_tasks': 0, 'cluster_name': 'atlas', 'number_of_data_nodes': 5, 'active_shards': 17589}\n"
     ]
    }
   ],
   "source": [
    "print(es.info(), '\\n', es.cluster.health())"
   ]
  },
  {
   "cell_type": "code",
   "execution_count": 5,
   "metadata": {
    "collapsed": false,
    "scrolled": false
   },
   "outputs": [
    {
     "name": "stdout",
     "output_type": "stream",
     "text": [
      "Total No. of Indices:  2596 \n",
      "\n",
      "total NWS indices: 227 \n",
      "\n",
      "['network_weather-2017.4.4', 'network_weather-2017.5.31', 'network_weather-2017.2.8', 'network_weather-2017.1.1', 'network_weather-2017.1.9'] \n",
      "\n",
      "total rucio indices: 527 \n",
      "\n",
      "['rucio-events-2016.07.12', 'rucio-events-2016.04.27', 'rucio-events-2016.10.02', 'rucio-events-2017.06.25', 'rucio-events-2017.03.27']\n"
     ]
    }
   ],
   "source": [
    "# checking indices\n",
    "\n",
    "indices = es.indices.get_aliases().keys()\n",
    "print('Total No. of Indices: ',len(indices),'\\n')\n",
    "# print('\\n', indices)\n",
    "rucio=(index for index in indices if('rucio-events' in index))\n",
    "network_weather = (index for index in indices if('network_weather-2017' in index))\n",
    "rucio_indices = []\n",
    "nws_indices = []\n",
    "for event in network_weather:\n",
    "    nws_indices.append(event)\n",
    "for event in rucio:\n",
    "    rucio_indices.append(event)\n",
    "print('total NWS indices:',len(nws_indices),'\\n')\n",
    "print(nws_indices[0:5], '\\n')\n",
    "\n",
    "print('total rucio indices:',len(rucio_indices),'\\n')\n",
    "print(rucio_indices[0:5])"
   ]
  },
  {
   "cell_type": "code",
   "execution_count": 6,
   "metadata": {
    "collapsed": false
   },
   "outputs": [
    {
     "name": "stdout",
     "output_type": "stream",
     "text": [
      "total documents : 1442654847\n"
     ]
    }
   ],
   "source": [
    "count=es.count(index='network_weather-2017*')\n",
    "print('total documents : {}'.format( count['count']) )"
   ]
  },
  {
   "cell_type": "code",
   "execution_count": 7,
   "metadata": {
    "collapsed": false,
    "scrolled": true
   },
   "outputs": [
    {
     "name": "stdout",
     "output_type": "stream",
     "text": [
      "{'network_weather-2017.7.23': 16976379, 'network_weather-2017.6.15': 16272220, 'network_weather-2017.4.18': 2940298, 'network_weather-2017.8.4': 15982071, 'network_weather-2017.1.9': 3957564, 'network_weather-2017.7.6': 16902500, 'network_weather-2017.4.17': 3267682, 'network_weather-2017.1.3': 4617257, 'network_weather-2017.6.25': 14720576, 'network_weather-2017.2.20': 4004030, 'network_weather-2017.3.20': 3525786, 'network_weather-2017.8.12': 16588484, 'network_weather-2017.7.22': 16415312, 'network_weather-2017.5.12': 14624637, 'network_weather-2017.5.7': 14426727, 'network_weather-2017.1.10': 3897760, 'network_weather-2017.5.31': 16780747, 'network_weather-2017.3.30': 4259944, 'network_weather-2017.7.27': 16647094, 'network_weather-2017.1.29': 3424128, 'network_weather-2017.3.19': 3504319, 'network_weather-2017.3.5': 4203370, 'network_weather-2017.2.13': 3953980, 'network_weather-2017.7.11': 16402928, 'network_weather-2017.1.16': 3661202, 'network_weather-2017.1.1': 4379687, 'network_weather-2017.5.3': 13046783, 'network_weather-2017.2.25': 1892759, 'network_weather-2017.5.14': 15116101, 'network_weather-2017.6.6': 15691914, 'network_weather-2017.3.4': 4280082, 'network_weather-2017.3.31': 4106245, 'network_weather-2017.5.19': 16251372, 'network_weather-2017.4.11': 4196312, 'network_weather-2017.5.4': 12708306, 'network_weather-2017.5.30': 19462440, 'network_weather-2017.5.22': 16711409, 'network_weather-2017.5.29': 23975011, 'network_weather-2017.1.25': 3988115, 'network_weather-2017.8.2': 16302962, 'network_weather-2017.7.8': 16773738, 'network_weather-2017.2.10': 4091321, 'network_weather-2017.6.29': 15530344, 'network_weather-2017.6.2': 16482057, 'network_weather-2017.5.20': 16302118, 'network_weather-2017.4.15': 3456184, 'network_weather-2017.3.1': 4719052, 'network_weather-2017.4.10': 4123415, 'network_weather-2017.6.16': 15123549, 'network_weather-2017.8.11': 16782976, 'network_weather-2017.6.27': 17170025, 'network_weather-2017.4.7': 4555551, 'network_weather-2017.4.23': 14728777, 'network_weather-2017.6.10': 15278088, 'network_weather-2017.6.23': 14863012, 'network_weather-2017.5.2': 12854458, 'network_weather-2017.3.25': 3360794, 'network_weather-2017.2.12': 3819660, 'network_weather-2017.8.3': 16166676, 'network_weather-2017.3.29': 4461239, 'network_weather-2017.1.19': 3757041, 'network_weather-2017.6.21': 15422938, 'network_weather-2017.2.8': 4483892, 'network_weather-2017.1.17': 3862679, 'network_weather-2017.7.10': 16297377, 'network_weather-2017.2.23': 2333478, 'network_weather-2017.5.18': 16378704, 'network_weather-2017.5.17': 15959258, 'network_weather-2017.4.1': 4255458, 'network_weather-2017.2.21': 4094496, 'network_weather-2017.5.11': 14308557, 'network_weather-2017.5.23': 17284319, 'network_weather-2017.2.2': 3972398, 'network_weather-2017.4.4': 4598089, 'network_weather-2017.1.21': 3899170, 'network_weather-2017.4.30': 13641227, 'network_weather-2017.6.9': 16075685, 'network_weather-2017.3.6': 4446945, 'network_weather-2017.3.12': 3753334, 'network_weather-2017.6.22': 15065497, 'network_weather-2017.2.22': 4162490, 'network_weather-2017.1.5': 4279902, 'network_weather-2017.8.8': 16613308, 'network_weather-2017.6.26': 14860959, 'network_weather-2017.2.4': 4801238, 'network_weather-2017.1.7': 4053281, 'network_weather-2017.1.4': 4497050, 'network_weather-2017.6.3': 15859736, 'network_weather-2017.1.28': 3502975, 'network_weather-2017.7.9': 16230436, 'network_weather-2017.3.9': 4056428, 'network_weather-2017.2.3': 4591324, 'network_weather-2017.3.10': 4107165, 'network_weather-2017.4.2': 4559677, 'network_weather-2017.4.19': 7552261, 'network_weather-2017.2.26': 2160267, 'network_weather-2017.5.16': 15299464, 'network_weather-2017.7.5': 17126018, 'network_weather-2017.8.6': 16350910, 'network_weather-2017.3.18': 3696849, 'network_weather-2017.7.17': 16265333, 'network_weather-2017.7.2': 16670421, 'network_weather-2017.2.19': 3741469, 'network_weather-2017.7.7': 16653551, 'network_weather-2017.4.12': 4186065, 'network_weather-2017.7.26': 16690231, 'network_weather-2017.4.16': 3349967, 'network_weather-2017.5.27': 23698099, 'network_weather-2017.4.8': 4354610, 'network_weather-2017.7.25': 16870112, 'network_weather-2017.3.14': 3507196, 'network_weather-2017.6.5': 15594906, 'network_weather-2017.6.20': 15648044, 'network_weather-2017.6.1': 16649588, 'network_weather-2017.5.6': 14272210, 'network_weather-2017.5.25': 20359752, 'network_weather-2017.2.7': 4508236, 'network_weather-2017.8.13': 16375671, 'network_weather-2017.3.8': 4117182, 'network_weather-2017.4.20': 15618777, 'network_weather-2017.4.9': 4079105, 'network_weather-2017.7.1': 15740780, 'network_weather-2017.8.7': 16491435, 'network_weather-2017.4.6': 4586959, 'network_weather-2017.4.25': 14092903, 'network_weather-2017.5.24': 13247996, 'network_weather-2017.2.15': 3761214, 'network_weather-2017.3.23': 3321091, 'network_weather-2017.4.22': 15442463, 'network_weather-2017.6.12': 15256065, 'network_weather-2017.1.31': 3775052, 'network_weather-2017.1.13': 4194098, 'network_weather-2017.4.5': 4715342, 'network_weather-2017.1.24': 4137392, 'network_weather-2017.3.22': 3296930, 'network_weather-2017.8.1': 16389115, 'network_weather-2017.3.13': 3276904, 'network_weather-2017.1.14': 3958221, 'network_weather-2017.1.27': 3662504, 'network_weather-2017.7.21': 16533545, 'network_weather-2017.3.17': 3816244, 'network_weather-2017.7.12': 16267514, 'network_weather-2017.7.14': 17122737, 'network_weather-2017.1.26': 3761050, 'network_weather-2017.1.30': 3805087, 'network_weather-2017.4.28': 13830616, 'network_weather-2017.6.18': 16102835, 'network_weather-2017.7.20': 16101596, 'network_weather-2017.2.28': 4826346, 'network_weather-2017.3.15': 3266577, 'network_weather-2017.8.15': 9638254, 'network_weather-2017.2.17': 3761879, 'network_weather-2017.7.16': 15798922, 'network_weather-2017.3.11': 3956963, 'network_weather-2017.5.21': 16763729, 'network_weather-2017.6.4': 15538020, 'network_weather-2017.4.14': 3515481, 'network_weather-2017.5.1': 13264216, 'network_weather-2017.6.19': 15687037, 'network_weather-2017.6.24': 14519940, 'network_weather-2017.2.5': 4642050, 'network_weather-2017.1.8': 3902869, 'network_weather-2017.5.15': 15199445, 'network_weather-2017.7.3': 16811379, 'network_weather-2017.2.9': 4572021, 'network_weather-2017.1.22': 4034492, 'network_weather-2017.7.24': 16826957, 'network_weather-2017.4.29': 13306751, 'network_weather-2017.7.4': 16824633, 'network_weather-2017.5.5': 12869514, 'network_weather-2017.7.30': 21401490, 'network_weather-2017.7.29': 16060305, 'network_weather-2017.4.21': 15690903, 'network_weather-2017.6.13': 15751716, 'network_weather-2017.5.13': 14819608, 'network_weather-2017.6.17': 15809591, 'network_weather-2017.2.27': 2910152, 'network_weather-2017.4.3': 4481484, 'network_weather-2017.4.24': 14722122, 'network_weather-2017.3.21': 3532361, 'network_weather-2017.6.14': 16076840, 'network_weather-2017.3.26': 3912807, 'network_weather-2017.3.3': 4347535, 'network_weather-2017.7.13': 16553323, 'network_weather-2017.5.9': 14304567, 'network_weather-2017.2.16': 3678946, 'network_weather-2017.8.5': 16253972, 'network_weather-2017.1.18': 3980618, 'network_weather-2017.2.1': 3993456, 'network_weather-2017.5.10': 14327120, 'network_weather-2017.2.11': 3962728, 'network_weather-2017.1.6': 4122284, 'network_weather-2017.6.30': 15303924, 'network_weather-2017.4.13': 3723456, 'network_weather-2017.1.15': 3752914, 'network_weather-2017.4.27': 14342432, 'network_weather-2017.6.8': 16601030, 'network_weather-2017.1.12': 3997993, 'network_weather-2017.5.8': 14359055, 'network_weather-2017.3.7': 4239008, 'network_weather-2017.5.28': 23617190, 'network_weather-2017.1.11': 3759174, 'network_weather-2017.3.24': 3310224, 'network_weather-2017.4.26': 14313334, 'network_weather-2017.3.2': 4468965, 'network_weather-2017.2.18': 3718215, 'network_weather-2017.2.6': 4456764, 'network_weather-2017.7.31': 19172407, 'network_weather-2017.3.28': 4586436, 'network_weather-2017.2.14': 3916762, 'network_weather-2017.6.11': 15501356, 'network_weather-2017.8.9': 14881767, 'network_weather-2017.7.28': 16390839, 'network_weather-2017.1.23': 4032578, 'network_weather-2017.3.27': 4547584, 'network_weather-2017.8.14': 16269269, 'network_weather-2017.2.24': 1284183, 'network_weather-2017.1.2': 3988060, 'network_weather-2017.1.20': 3513746, 'network_weather-2017.3.16': 3790225, 'network_weather-2017.8.10': 16231686, 'network_weather-2017.7.15': 16384227, 'network_weather-2017.7.19': 17309950, 'network_weather-2017.6.28': 15221907, 'network_weather-2017.6.7': 16143762, 'network_weather-2017.7.18': 17071352, 'network_weather-2017.5.26': 24255613}\n"
     ]
    }
   ],
   "source": [
    "nws_indices_dict = {}\n",
    "for event in nws_indices:\n",
    "    i = es.count(index=event)\n",
    "    nws_indices_dict[event] = i['count']\n",
    "# print('total data points:',sum(int(list(indices_dict.values()))))\n",
    "\n",
    "print(nws_indices_dict)"
   ]
  },
  {
   "cell_type": "code",
   "execution_count": 11,
   "metadata": {
    "collapsed": true
   },
   "outputs": [],
   "source": [
    "def extract_data(index, query, scan_size, scan_step):\n",
    "    resp = es.search(\n",
    "    index = index,\n",
    "    scroll = '20m',\n",
    "    body = query,\n",
    "    size = scan_step)\n",
    "\n",
    "    sid = resp['_scroll_id']\n",
    "    scroll_size = resp['hits']['total']\n",
    "    print('total hits in {} : {}'.format(index,scroll_size))\n",
    "    results=[]\n",
    "    for hit in resp['hits']['hits']:\n",
    "        results.append(hit)\n",
    "    #plot_data_stats(results)\n",
    "    steps = int((scan_size-scan_step)/ scan_step)\n",
    "\n",
    "    # Start scrolling\n",
    "\n",
    "    for i in range(steps):\n",
    "        if i%10==0:\n",
    "            print(\"Scrolling index : {} ; step : {} ...\\n \".format(index,i))\n",
    "        resp = es.scroll(scroll_id = sid, scroll = '20m')\n",
    "        # Update the scroll ID\n",
    "        sid = resp['_scroll_id']\n",
    "        # Get the number of results that we returned in the last scroll\n",
    "        scroll_size = len(resp['hits']['hits'])\n",
    "        if i%10==0:\n",
    "            print(\"scroll size: \" + str(scroll_size))\n",
    "        for hit in resp['hits']['hits']:\n",
    "            results.append(hit)\n",
    "    \n",
    "    print(\"\\n Done Scrolling through {} !! \\n\".format(index))\n",
    "    results = pd.DataFrame(results)\n",
    "    print(results.info(), '\\n')\n",
    "    return results"
   ]
  },
  {
   "cell_type": "code",
   "execution_count": 12,
   "metadata": {
    "collapsed": false,
    "scrolled": true
   },
   "outputs": [
    {
     "name": "stdout",
     "output_type": "stream",
     "text": [
      "total hits in network_weather-2017.8.10 : 16231686\n",
      "Scrolling index : network_weather-2017.8.10 ; step : 0 ...\n",
      " \n",
      "scroll size: 10000\n",
      "Scrolling index : network_weather-2017.8.10 ; step : 10 ...\n",
      " \n",
      "scroll size: 10000\n",
      "Scrolling index : network_weather-2017.8.10 ; step : 20 ...\n",
      " \n",
      "scroll size: 10000\n",
      "Scrolling index : network_weather-2017.8.10 ; step : 30 ...\n",
      " \n",
      "scroll size: 10000\n",
      "Scrolling index : network_weather-2017.8.10 ; step : 40 ...\n",
      " \n",
      "scroll size: 10000\n",
      "Scrolling index : network_weather-2017.8.10 ; step : 50 ...\n",
      " \n",
      "scroll size: 10000\n",
      "Scrolling index : network_weather-2017.8.10 ; step : 60 ...\n",
      " \n",
      "scroll size: 10000\n",
      "Scrolling index : network_weather-2017.8.10 ; step : 70 ...\n",
      " \n",
      "scroll size: 10000\n",
      "Scrolling index : network_weather-2017.8.10 ; step : 80 ...\n",
      " \n",
      "scroll size: 10000\n",
      "Scrolling index : network_weather-2017.8.10 ; step : 90 ...\n",
      " \n",
      "scroll size: 10000\n",
      "\n",
      " Done Scrolling through network_weather-2017.8.10 !! \n",
      "\n",
      "<class 'pandas.core.frame.DataFrame'>\n",
      "RangeIndex: 1000000 entries, 0 to 999999\n",
      "Data columns (total 5 columns):\n",
      "_id        1000000 non-null object\n",
      "_index     1000000 non-null object\n",
      "_score     1000000 non-null float64\n",
      "_source    1000000 non-null object\n",
      "_type      1000000 non-null object\n",
      "dtypes: float64(1), object(4)\n",
      "memory usage: 38.1+ MB\n",
      "None \n",
      "\n"
     ]
    }
   ],
   "source": [
    "import numpy as np\n",
    "import pandas as pd\n",
    "nws= extract_data(index='network_weather-2017.8.10',query={}, scan_size=1000000, scan_step=10000)"
   ]
  },
  {
   "cell_type": "code",
   "execution_count": 13,
   "metadata": {
    "collapsed": false
   },
   "outputs": [],
   "source": [
    "nws.to_csv('nws.csv')"
   ]
  },
  {
   "cell_type": "code",
   "execution_count": 16,
   "metadata": {
    "collapsed": false
   },
   "outputs": [
    {
     "data": {
      "text/plain": [
       "array(['latency', 'packet_loss_rate', 'ps_perf', 'link_utilization',\n",
       "       'traceroute', 'throughput', 'netflow_lhcopn', 'retransmits'], dtype=object)"
      ]
     },
     "execution_count": 16,
     "metadata": {},
     "output_type": "execute_result"
    }
   ],
   "source": [
    "nws['_type'].unique()"
   ]
  },
  {
   "cell_type": "code",
   "execution_count": 17,
   "metadata": {
    "collapsed": false
   },
   "outputs": [
    {
     "data": {
      "text/plain": [
       "packet_loss_rate    457196\n",
       "latency             455104\n",
       "link_utilization     56595\n",
       "traceroute           26810\n",
       "netflow_lhcopn        1567\n",
       "throughput            1070\n",
       "ps_perf                839\n",
       "retransmits            819\n",
       "Name: _type, dtype: int64"
      ]
     },
     "execution_count": 17,
     "metadata": {},
     "output_type": "execute_result"
    }
   ],
   "source": [
    "nws['_type'].value_counts()"
   ]
  },
  {
   "cell_type": "code",
   "execution_count": 21,
   "metadata": {
    "collapsed": false,
    "scrolled": false
   },
   "outputs": [
    {
     "data": {
      "text/plain": [
       "{'_shards': {'failed': 0, 'successful': 5, 'total': 5},\n",
       " 'hits': {'hits': [{'_id': 'AV3JkuUXNILXDji87ilt',\n",
       "    '_index': 'network_weather-2017.8.10',\n",
       "    '_score': 1.0,\n",
       "    '_source': {'MA': '128.227.221.44',\n",
       "     'delay_mean': 63.81549999999999,\n",
       "     'delay_median': 63.8,\n",
       "     'delay_sd': 0.08856118412336961,\n",
       "     'dest': '148.6.8.251',\n",
       "     'destProduction': True,\n",
       "     'destSite': 'BUDAPEST',\n",
       "     'destVO': 'ATLAS',\n",
       "     'dest_host': 'psbud01.kfki.hu',\n",
       "     'ipv6': False,\n",
       "     'src': '128.227.221.44',\n",
       "     'srcProduction': True,\n",
       "     'srcSite': 'UFlorida-HPC',\n",
       "     'srcVO': '',\n",
       "     'src_host': 'perfsonar1.ihepa.ufl.edu',\n",
       "     'timestamp': 1502325310000},\n",
       "    '_type': 'latency'}],\n",
       "  'max_score': 1.0,\n",
       "  'total': 16231686},\n",
       " 'timed_out': False,\n",
       " 'took': 41}"
      ]
     },
     "execution_count": 21,
     "metadata": {},
     "output_type": "execute_result"
    }
   ],
   "source": [
    "myquery = {\n",
    "    \"query\": {\n",
    "        \"term\": {\n",
    "            '_type': 'throughput'\n",
    "            }\n",
    "        }\n",
    "    }\n",
    "es.search(index='network_weather-2017.8.10',body={}, size = 1)"
   ]
  },
  {
   "cell_type": "code",
   "execution_count": 38,
   "metadata": {
    "collapsed": false
   },
   "outputs": [
    {
     "name": "stdout",
     "output_type": "stream",
     "text": [
      "total hits in network_weather-2017.8.10 : 15033\n",
      "\n",
      " Done Scrolling through network_weather-2017.8.10 !! \n",
      "\n",
      "<class 'pandas.core.frame.DataFrame'>\n",
      "RangeIndex: 10000 entries, 0 to 9999\n",
      "Data columns (total 14 columns):\n",
      "MA                10000 non-null object\n",
      "dest              10000 non-null object\n",
      "destProduction    10000 non-null bool\n",
      "destSite          6958 non-null object\n",
      "destVO            6958 non-null object\n",
      "dest_host         10000 non-null object\n",
      "ipv6              10000 non-null bool\n",
      "src               10000 non-null object\n",
      "srcProduction     10000 non-null bool\n",
      "srcSite           6886 non-null object\n",
      "srcVO             6886 non-null object\n",
      "src_host          10000 non-null object\n",
      "throughput        10000 non-null float64\n",
      "timestamp         10000 non-null int64\n",
      "dtypes: bool(3), float64(1), int64(1), object(9)\n",
      "memory usage: 888.8+ KB\n",
      "None \n",
      "\n"
     ]
    }
   ],
   "source": [
    "query2={\n",
    "    \"query\": {\n",
    "        \"term\": {\n",
    "            '_type': 'throughput'\n",
    "            }\n",
    "        }\n",
    "    }\n",
    "import pandas as pd\n",
    "throughput= extract_data(index='network_weather-2017.8.10', query=query2, scan_size=15033, scan_step=10000)"
   ]
  },
  {
   "cell_type": "code",
   "execution_count": 39,
   "metadata": {
    "collapsed": false
   },
   "outputs": [
    {
     "data": {
      "text/html": [
       "<div>\n",
       "<table border=\"1\" class=\"dataframe\">\n",
       "  <thead>\n",
       "    <tr style=\"text-align: right;\">\n",
       "      <th></th>\n",
       "      <th>MA</th>\n",
       "      <th>dest</th>\n",
       "      <th>destProduction</th>\n",
       "      <th>destSite</th>\n",
       "      <th>destVO</th>\n",
       "      <th>dest_host</th>\n",
       "      <th>ipv6</th>\n",
       "      <th>src</th>\n",
       "      <th>srcProduction</th>\n",
       "      <th>srcSite</th>\n",
       "      <th>srcVO</th>\n",
       "      <th>src_host</th>\n",
       "      <th>throughput</th>\n",
       "      <th>timestamp</th>\n",
       "    </tr>\n",
       "  </thead>\n",
       "  <tbody>\n",
       "    <tr>\n",
       "      <th>0</th>\n",
       "      <td>137.222.74.17</td>\n",
       "      <td>137.222.74.17</td>\n",
       "      <td>True</td>\n",
       "      <td>UKI-SOUTHGRID-BRIS-HEP</td>\n",
       "      <td>ATLAS</td>\n",
       "      <td>lcgnetmon02.phy.bris.ac.uk</td>\n",
       "      <td>False</td>\n",
       "      <td>169.228.130.41</td>\n",
       "      <td>True</td>\n",
       "      <td>NaN</td>\n",
       "      <td>NaN</td>\n",
       "      <td>perfsonar-1.t2.ucsd.edu</td>\n",
       "      <td>1.866498e+08</td>\n",
       "      <td>1502324812000</td>\n",
       "    </tr>\n",
       "    <tr>\n",
       "      <th>1</th>\n",
       "      <td>165.91.55.6</td>\n",
       "      <td>192.12.15.111</td>\n",
       "      <td>True</td>\n",
       "      <td>BNL-ATLAS</td>\n",
       "      <td>ATLAS</td>\n",
       "      <td>ps-development.bnl.gov</td>\n",
       "      <td>False</td>\n",
       "      <td>165.91.55.6</td>\n",
       "      <td>True</td>\n",
       "      <td>NaN</td>\n",
       "      <td>NaN</td>\n",
       "      <td>psonar-bwctl.brazos.tamu.edu</td>\n",
       "      <td>9.416140e+08</td>\n",
       "      <td>1502324895000</td>\n",
       "    </tr>\n",
       "    <tr>\n",
       "      <th>2</th>\n",
       "      <td>18.12.1.172</td>\n",
       "      <td>18.12.1.172</td>\n",
       "      <td>True</td>\n",
       "      <td>NaN</td>\n",
       "      <td>NaN</td>\n",
       "      <td>18.12.1.172</td>\n",
       "      <td>False</td>\n",
       "      <td>198.124.238.66</td>\n",
       "      <td>False</td>\n",
       "      <td>NaN</td>\n",
       "      <td>NaN</td>\n",
       "      <td>bost-pt1.es.net</td>\n",
       "      <td>7.821352e+09</td>\n",
       "      <td>1502324969000</td>\n",
       "    </tr>\n",
       "    <tr>\n",
       "      <th>3</th>\n",
       "      <td>192.111.108.111</td>\n",
       "      <td>129.93.239.163</td>\n",
       "      <td>True</td>\n",
       "      <td>Nebraska</td>\n",
       "      <td></td>\n",
       "      <td>hcc-ps02.unl.edu</td>\n",
       "      <td>False</td>\n",
       "      <td>192.111.108.111</td>\n",
       "      <td>True</td>\n",
       "      <td>Vanderbilt</td>\n",
       "      <td>ATLAS</td>\n",
       "      <td>192.111.108.111</td>\n",
       "      <td>2.270000e+08</td>\n",
       "      <td>1502324971000</td>\n",
       "    </tr>\n",
       "    <tr>\n",
       "      <th>4</th>\n",
       "      <td>129.215.213.69</td>\n",
       "      <td>129.215.213.69</td>\n",
       "      <td>True</td>\n",
       "      <td>UKI-SCOTGRID-ECDF</td>\n",
       "      <td>ATLAS</td>\n",
       "      <td>gridpp-ps-band.ecdf.ed.ac.uk</td>\n",
       "      <td>False</td>\n",
       "      <td>195.194.105.177</td>\n",
       "      <td>True</td>\n",
       "      <td>UKI-NORTHGRID-MAN-HEP</td>\n",
       "      <td>ATLAS</td>\n",
       "      <td>perfsonar-bw.tier2.hep.manchester.ac.uk</td>\n",
       "      <td>3.628617e+09</td>\n",
       "      <td>1502325054000</td>\n",
       "    </tr>\n",
       "  </tbody>\n",
       "</table>\n",
       "</div>"
      ],
      "text/plain": [
       "                MA            dest destProduction                destSite  \\\n",
       "0    137.222.74.17   137.222.74.17           True  UKI-SOUTHGRID-BRIS-HEP   \n",
       "1      165.91.55.6   192.12.15.111           True               BNL-ATLAS   \n",
       "2      18.12.1.172     18.12.1.172           True                     NaN   \n",
       "3  192.111.108.111  129.93.239.163           True                Nebraska   \n",
       "4   129.215.213.69  129.215.213.69           True       UKI-SCOTGRID-ECDF   \n",
       "\n",
       "  destVO                     dest_host   ipv6              src srcProduction  \\\n",
       "0  ATLAS    lcgnetmon02.phy.bris.ac.uk  False   169.228.130.41          True   \n",
       "1  ATLAS        ps-development.bnl.gov  False      165.91.55.6          True   \n",
       "2    NaN                   18.12.1.172  False   198.124.238.66         False   \n",
       "3                     hcc-ps02.unl.edu  False  192.111.108.111          True   \n",
       "4  ATLAS  gridpp-ps-band.ecdf.ed.ac.uk  False  195.194.105.177          True   \n",
       "\n",
       "                 srcSite  srcVO                                 src_host  \\\n",
       "0                    NaN    NaN                  perfsonar-1.t2.ucsd.edu   \n",
       "1                    NaN    NaN             psonar-bwctl.brazos.tamu.edu   \n",
       "2                    NaN    NaN                          bost-pt1.es.net   \n",
       "3             Vanderbilt  ATLAS                          192.111.108.111   \n",
       "4  UKI-NORTHGRID-MAN-HEP  ATLAS  perfsonar-bw.tier2.hep.manchester.ac.uk   \n",
       "\n",
       "     throughput      timestamp  \n",
       "0  1.866498e+08  1502324812000  \n",
       "1  9.416140e+08  1502324895000  \n",
       "2  7.821352e+09  1502324969000  \n",
       "3  2.270000e+08  1502324971000  \n",
       "4  3.628617e+09  1502325054000  "
      ]
     },
     "execution_count": 39,
     "metadata": {},
     "output_type": "execute_result"
    }
   ],
   "source": [
    "throughput.head()"
   ]
  },
  {
   "cell_type": "code",
   "execution_count": 73,
   "metadata": {
    "collapsed": false
   },
   "outputs": [
    {
     "ename": "ValueError",
     "evalue": "The truth value of a Series is ambiguous. Use a.empty, a.bool(), a.item(), a.any() or a.all().",
     "output_type": "error",
     "traceback": [
      "\u001b[0;31m---------------------------------------------------------------------------\u001b[0m",
      "\u001b[0;31mValueError\u001b[0m                                Traceback (most recent call last)",
      "\u001b[0;32m<ipython-input-73-e5d2bd814be7>\u001b[0m in \u001b[0;36m<module>\u001b[0;34m()\u001b[0m\n\u001b[1;32m      1\u001b[0m \u001b[0mcond1\u001b[0m \u001b[0;34m=\u001b[0m \u001b[0mthroughput\u001b[0m\u001b[0;34m[\u001b[0m\u001b[0;34m'destSite'\u001b[0m\u001b[0;34m]\u001b[0m \u001b[0;34m==\u001b[0m\u001b[0mfloat\u001b[0m\u001b[0;34m(\u001b[0m\u001b[0;34m'nan'\u001b[0m\u001b[0;34m)\u001b[0m\u001b[0;34m\u001b[0m\u001b[0m\n\u001b[0;32m----> 2\u001b[0;31m \u001b[0ma\u001b[0m\u001b[0;34m=\u001b[0m \u001b[0mthroughput\u001b[0m\u001b[0;34m[\u001b[0m\u001b[0;32mnot\u001b[0m\u001b[0;34m(\u001b[0m\u001b[0mcond1\u001b[0m\u001b[0;34m)\u001b[0m\u001b[0;34m]\u001b[0m\u001b[0;34m\u001b[0m\u001b[0m\n\u001b[0m\u001b[1;32m      3\u001b[0m \u001b[0;31m# cond2 = a['srcSite'] !=float('nan')\u001b[0m\u001b[0;34m\u001b[0m\u001b[0;34m\u001b[0m\u001b[0m\n\u001b[1;32m      4\u001b[0m \u001b[0;31m# a= a[cond2]\u001b[0m\u001b[0;34m\u001b[0m\u001b[0;34m\u001b[0m\u001b[0m\n",
      "\u001b[0;32m/cvmfs/sft.cern.ch/lcg/views/LCG_88Py3/x86_64-slc6-gcc62-opt/lib/python3.5/site-packages/pandas-0.19.0-py3.5-linux-x86_64.egg/pandas/core/generic.py\u001b[0m in \u001b[0;36m__nonzero__\u001b[0;34m(self)\u001b[0m\n\u001b[1;32m    915\u001b[0m         raise ValueError(\"The truth value of a {0} is ambiguous. \"\n\u001b[1;32m    916\u001b[0m                          \u001b[0;34m\"Use a.empty, a.bool(), a.item(), a.any() or a.all().\"\u001b[0m\u001b[0;34m\u001b[0m\u001b[0m\n\u001b[0;32m--> 917\u001b[0;31m                          .format(self.__class__.__name__))\n\u001b[0m\u001b[1;32m    918\u001b[0m \u001b[0;34m\u001b[0m\u001b[0m\n\u001b[1;32m    919\u001b[0m     \u001b[0m__bool__\u001b[0m \u001b[0;34m=\u001b[0m \u001b[0m__nonzero__\u001b[0m\u001b[0;34m\u001b[0m\u001b[0m\n",
      "\u001b[0;31mValueError\u001b[0m: The truth value of a Series is ambiguous. Use a.empty, a.bool(), a.item(), a.any() or a.all()."
     ]
    }
   ],
   "source": [
    "cond1 = throughput['destSite'] ==float('nan')\n",
    "a= throughput[not(cond1)]\n",
    "# cond2 = a['srcSite'] !=float('nan')\n",
    "# a= a[cond2]"
   ]
  },
  {
   "cell_type": "code",
   "execution_count": 70,
   "metadata": {
    "collapsed": false
   },
   "outputs": [
    {
     "name": "stdout",
     "output_type": "stream",
     "text": [
      "<class 'pandas.core.frame.DataFrame'>\n",
      "Int64Index: 10000 entries, 0 to 9999\n",
      "Data columns (total 14 columns):\n",
      "MA                10000 non-null object\n",
      "dest              10000 non-null object\n",
      "destProduction    10000 non-null bool\n",
      "destSite          6958 non-null object\n",
      "destVO            6958 non-null object\n",
      "dest_host         10000 non-null object\n",
      "ipv6              10000 non-null bool\n",
      "src               10000 non-null object\n",
      "srcProduction     10000 non-null bool\n",
      "srcSite           6886 non-null object\n",
      "srcVO             6886 non-null object\n",
      "src_host          10000 non-null object\n",
      "throughput        10000 non-null float64\n",
      "timestamp         10000 non-null int64\n",
      "dtypes: bool(3), float64(1), int64(1), object(9)\n",
      "memory usage: 966.8+ KB\n"
     ]
    }
   ],
   "source": [
    "a.info()"
   ]
  },
  {
   "cell_type": "code",
   "execution_count": 71,
   "metadata": {
    "collapsed": false
   },
   "outputs": [
    {
     "data": {
      "text/html": [
       "<div>\n",
       "<table border=\"1\" class=\"dataframe\">\n",
       "  <thead>\n",
       "    <tr style=\"text-align: right;\">\n",
       "      <th></th>\n",
       "      <th>MA</th>\n",
       "      <th>dest</th>\n",
       "      <th>destProduction</th>\n",
       "      <th>destSite</th>\n",
       "      <th>destVO</th>\n",
       "      <th>dest_host</th>\n",
       "      <th>ipv6</th>\n",
       "      <th>src</th>\n",
       "      <th>srcProduction</th>\n",
       "      <th>srcSite</th>\n",
       "      <th>srcVO</th>\n",
       "      <th>src_host</th>\n",
       "      <th>throughput</th>\n",
       "      <th>timestamp</th>\n",
       "    </tr>\n",
       "  </thead>\n",
       "  <tbody>\n",
       "    <tr>\n",
       "      <th>0</th>\n",
       "      <td>137.222.74.17</td>\n",
       "      <td>137.222.74.17</td>\n",
       "      <td>True</td>\n",
       "      <td>UKI-SOUTHGRID-BRIS-HEP</td>\n",
       "      <td>ATLAS</td>\n",
       "      <td>lcgnetmon02.phy.bris.ac.uk</td>\n",
       "      <td>False</td>\n",
       "      <td>169.228.130.41</td>\n",
       "      <td>True</td>\n",
       "      <td>NaN</td>\n",
       "      <td>NaN</td>\n",
       "      <td>perfsonar-1.t2.ucsd.edu</td>\n",
       "      <td>1.866498e+08</td>\n",
       "      <td>1502324812000</td>\n",
       "    </tr>\n",
       "    <tr>\n",
       "      <th>1</th>\n",
       "      <td>165.91.55.6</td>\n",
       "      <td>192.12.15.111</td>\n",
       "      <td>True</td>\n",
       "      <td>BNL-ATLAS</td>\n",
       "      <td>ATLAS</td>\n",
       "      <td>ps-development.bnl.gov</td>\n",
       "      <td>False</td>\n",
       "      <td>165.91.55.6</td>\n",
       "      <td>True</td>\n",
       "      <td>NaN</td>\n",
       "      <td>NaN</td>\n",
       "      <td>psonar-bwctl.brazos.tamu.edu</td>\n",
       "      <td>9.416140e+08</td>\n",
       "      <td>1502324895000</td>\n",
       "    </tr>\n",
       "    <tr>\n",
       "      <th>2</th>\n",
       "      <td>18.12.1.172</td>\n",
       "      <td>18.12.1.172</td>\n",
       "      <td>True</td>\n",
       "      <td>NaN</td>\n",
       "      <td>NaN</td>\n",
       "      <td>18.12.1.172</td>\n",
       "      <td>False</td>\n",
       "      <td>198.124.238.66</td>\n",
       "      <td>False</td>\n",
       "      <td>NaN</td>\n",
       "      <td>NaN</td>\n",
       "      <td>bost-pt1.es.net</td>\n",
       "      <td>7.821352e+09</td>\n",
       "      <td>1502324969000</td>\n",
       "    </tr>\n",
       "    <tr>\n",
       "      <th>3</th>\n",
       "      <td>192.111.108.111</td>\n",
       "      <td>129.93.239.163</td>\n",
       "      <td>True</td>\n",
       "      <td>Nebraska</td>\n",
       "      <td></td>\n",
       "      <td>hcc-ps02.unl.edu</td>\n",
       "      <td>False</td>\n",
       "      <td>192.111.108.111</td>\n",
       "      <td>True</td>\n",
       "      <td>Vanderbilt</td>\n",
       "      <td>ATLAS</td>\n",
       "      <td>192.111.108.111</td>\n",
       "      <td>2.270000e+08</td>\n",
       "      <td>1502324971000</td>\n",
       "    </tr>\n",
       "    <tr>\n",
       "      <th>4</th>\n",
       "      <td>129.215.213.69</td>\n",
       "      <td>129.215.213.69</td>\n",
       "      <td>True</td>\n",
       "      <td>UKI-SCOTGRID-ECDF</td>\n",
       "      <td>ATLAS</td>\n",
       "      <td>gridpp-ps-band.ecdf.ed.ac.uk</td>\n",
       "      <td>False</td>\n",
       "      <td>195.194.105.177</td>\n",
       "      <td>True</td>\n",
       "      <td>UKI-NORTHGRID-MAN-HEP</td>\n",
       "      <td>ATLAS</td>\n",
       "      <td>perfsonar-bw.tier2.hep.manchester.ac.uk</td>\n",
       "      <td>3.628617e+09</td>\n",
       "      <td>1502325054000</td>\n",
       "    </tr>\n",
       "  </tbody>\n",
       "</table>\n",
       "</div>"
      ],
      "text/plain": [
       "                MA            dest destProduction                destSite  \\\n",
       "0    137.222.74.17   137.222.74.17           True  UKI-SOUTHGRID-BRIS-HEP   \n",
       "1      165.91.55.6   192.12.15.111           True               BNL-ATLAS   \n",
       "2      18.12.1.172     18.12.1.172           True                     NaN   \n",
       "3  192.111.108.111  129.93.239.163           True                Nebraska   \n",
       "4   129.215.213.69  129.215.213.69           True       UKI-SCOTGRID-ECDF   \n",
       "\n",
       "  destVO                     dest_host   ipv6              src srcProduction  \\\n",
       "0  ATLAS    lcgnetmon02.phy.bris.ac.uk  False   169.228.130.41          True   \n",
       "1  ATLAS        ps-development.bnl.gov  False      165.91.55.6          True   \n",
       "2    NaN                   18.12.1.172  False   198.124.238.66         False   \n",
       "3                     hcc-ps02.unl.edu  False  192.111.108.111          True   \n",
       "4  ATLAS  gridpp-ps-band.ecdf.ed.ac.uk  False  195.194.105.177          True   \n",
       "\n",
       "                 srcSite  srcVO                                 src_host  \\\n",
       "0                    NaN    NaN                  perfsonar-1.t2.ucsd.edu   \n",
       "1                    NaN    NaN             psonar-bwctl.brazos.tamu.edu   \n",
       "2                    NaN    NaN                          bost-pt1.es.net   \n",
       "3             Vanderbilt  ATLAS                          192.111.108.111   \n",
       "4  UKI-NORTHGRID-MAN-HEP  ATLAS  perfsonar-bw.tier2.hep.manchester.ac.uk   \n",
       "\n",
       "     throughput      timestamp  \n",
       "0  1.866498e+08  1502324812000  \n",
       "1  9.416140e+08  1502324895000  \n",
       "2  7.821352e+09  1502324969000  \n",
       "3  2.270000e+08  1502324971000  \n",
       "4  3.628617e+09  1502325054000  "
      ]
     },
     "execution_count": 71,
     "metadata": {},
     "output_type": "execute_result"
    }
   ],
   "source": [
    "a.head()\n",
    "# type(a['destSite'][2])"
   ]
  },
  {
   "cell_type": "markdown",
   "metadata": {},
   "source": [
    "# INDEX- network-weather-2017*\n",
    "\n",
    "## event format - "
   ]
  },
  {
   "cell_type": "markdown",
   "metadata": {},
   "source": [
    "```json\n",
    "{\n",
    "    \"_index\": \"jobs_archive_2017-06-05\",\n",
    "    \"_type\": \"jobs_data\",\n",
    "    \"_id\": \"3413570266\",\n",
    "    \"_version\": 1,\n",
    "    \"_score\": null,\n",
    "    \"_source\": {\n",
    "        \"pandaid\": 3413570266,\n",
    "        \"jobdefinitionid\": 146514542,\n",
    "        \"schedulerid\": \"aCT-atlact1-ai403\",\n",
    "        \"pilotid\": \"http://aipanda403.cern.ch/data/jobs/20170605/jost.arnes.si/YWRKDmXP0bqnmmR0Xox1SiGmABFKDmABFKDmSMIKDmGBGKDmUdp8Lo|NEWMOVER-ON|SLURM|PR|PICARD 68.3\",\n",
    "        \"creationtime\": \"2017-06-05T06:02:41\",\n",
    "        \"creationhost\": \"hammercloud-ai-74.ipv6.cern.ch\",\n",
    "        \"modificationtime\": \"2017-06-05T06:59:50\",\n",
    "        \"modificationhost\": \"wn095.arnes.si\",\n",
    "        \"atlasrelease\": \"Atlas-20.7.6\",\n",
    "        \"transformation\": \"http://pandaserver.cern.ch:25080/trf/user/runAthena-00-00-11\",\n",
    "        \"homepackage\": \"AnalysisTransforms-AtlasDerivation_20.7.6.4\",\n",
    "        \"prodserieslabel\": null,\n",
    "        \"prodsourcelabel\": \"user\",\n",
    "        \"produserid\": \"/DC=ch/DC=cern/OU=Organic Units/OU=Users/CN=gangarbt/CN=601592/CN=Robot: Ganga Robot/CN=proxy\",\n",
    "        \"assignedpriority\": 0,\n",
    "        \"currentpriority\": 4000,\n",
    "        \"attemptnr\": 0,\n",
    "        \"maxattempt\": 2,\n",
    "        \"jobstatus\": \"finished\",\n",
    "        \"jobname\": \"90084d6f-22ef-462f-8fb0-b383e7e4629b_67487\",\n",
    "        \"maxcpucount\": 0,\n",
    "        \"maxdiskcount\": 0,\n",
    "        \"minramcount\": 0,\n",
    "        \"starttime\": \"2017-06-05T06:29:31\",\n",
    "        \"endtime\": \"2017-06-05T06:49:49\",\n",
    "        \"cpuconsumptiontime\": 834,\n",
    "        \"cpuconsumptionunit\": \"s+Intel(R) Xeon(R) CPU E5-2650 v2 @ 2.60GHz 20480 KB\",\n",
    "        \"commandtopilot\": null,\n",
    "        \"transexitcode\": null,\n",
    "        \"piloterrorcode\": 0,\n",
    "        \"piloterrordiag\": null,\n",
    "        \"exeerrorcode\": 0,\n",
    "        \"exeerrordiag\": \"OK\",\n",
    "        \"superrorcode\": 0,\n",
    "        \"superrordiag\": null,\n",
    "        \"ddmerrorcode\": 0,\n",
    "        \"ddmerrordiag\": null,\n",
    "        \"brokerageerrorcode\": 0,\n",
    "        \"brokerageerrordiag\": null,\n",
    "        \"jobdispatchererrorcode\": 0,\n",
    "        \"jobdispatchererrordiag\": null,\n",
    "        \"taskbuffererrorcode\": 0,\n",
    "        \"taskbuffererrordiag\": null,\n",
    "        \"computingsite\": \"ANALY_ARNES_DIRECT\",\n",
    "        \"computingelement\": \"jost.arnes.si\",\n",
    "        \"proddblock\": \"data15_13TeV.00276336.physics_Main.merge.AOD.r7562_p2521_tid07709524_00\",\n",
    "        \"dispatchdblock\": null,\n",
    "        \"destinationdblock\": \"user.gangarbt.hc20107254.tid845.ANALY_ARNES_DIRECT.6\",\n",
    "        \"destinationse\": \"ANALY_ARNES_DIRECT\",\n",
    "        \"nevents\": 3903,\n",
    "        \"grid\": null,\n",
    "        \"cloud\": \"ND\",\n",
    "        \"cpuconversion\": \"1\",\n",
    "        \"sourcesite\": null,\n",
    "        \"destinationsite\": null,\n",
    "        \"transfertype\": null,\n",
    "        \"taskid\": 2,\n",
    "        \"cmtconfig\": \"x86_64-slc6-gcc49-opt\",\n",
    "        \"statechangetime\": \"2017-06-05T06:59:50\",\n",
    "        \"lockedby\": null,\n",
    "        \"relocationflag\": 1,\n",
    "        \"jobexecutionid\": 0,\n",
    "        \"vo\": \"atlas\",\n",
    "        \"workinggroup\": null,\n",
    "        \"processingtype\": \"gangarobot\",\n",
    "        \"produsername\": \"gangarbt\",\n",
    "        \"countrygroup\": null,\n",
    "        \"batchid\": \"12405832\",\n",
    "        \"parentid\": null,\n",
    "        \"specialhandling\": null,\n",
    "        \"jobsetid\": null,\n",
    "        \"corecount\": 1,\n",
    "        \"ninputdatafiles\": 1,\n",
    "        \"inputfiletype\": \"AOD\",\n",
    "        \"inputfileproject\": \"data15_13TeV\",\n",
    "        \"inputfilebytes\": 824476423,\n",
    "        \"noutputdatafiles\": 1,\n",
    "        \"outputfilebytes\": 4025868,\n",
    "        \"dbTime\": 29.64,\n",
    "        \"dbData\": 8090396,\n",
    "        \"workDirSize\": 1650688,\n",
    "        \"jobmetrics\": null,\n",
    "        \"workqueue_id\": null,\n",
    "        \"jeditaskid\": null,\n",
    "        \"jobsubstatus\": null,\n",
    "        \"actualcorecount\": 1,\n",
    "        \"reqid\": null,\n",
    "        \"maxrss\": 1483408,\n",
    "        \"maxvmem\": 3293680,\n",
    "        \"maxpss\": 1411801,\n",
    "        \"avgrss\": 1102786,\n",
    "        \"avgvmem\": 2744469,\n",
    "        \"avgswap\": 6041,\n",
    "        \"avgpss\": 1042013,\n",
    "        \"maxwalltime\": null,\n",
    "        \"wall_time\": 1218,\n",
    "        \"cpu_eff\": 0.68472904,\n",
    "        \"queue_time\": 1610,\n",
    "        \"timeGetJob\": 0,\n",
    "        \"timeStageIn\": 17,\n",
    "        \"timeExe\": 1038,\n",
    "        \"timeStageOut\": 15,\n",
    "        \"timeSetup\": 0,\n",
    "        \"nucleus\": null,\n",
    "        \"eventservice\": null,\n",
    "        \"failedattempt\": null,\n",
    "        \"hs06sec\": null,\n",
    "        \"hs06\": null,\n",
    "        \"gShare\": \"Analysis\",\n",
    "        \"IOcharRead\": 753904,\n",
    "        \"IOcharWritten\": 17778,\n",
    "        \"IObytesRead\": 3151948,\n",
    "        \"IObytesWritten\": 23136,\n",
    "        \"IOcharReadRate\": 766631,\n",
    "        \"IOcharWriteRate\": 18078,\n",
    "        \"IObytesReadRate\": 3205158,\n",
    "        \"IObytesWriteRate\": 23526\n",
    "    },\n",
    "    \"fields\": {\n",
    "        \"Average RSS\": [\n",
    "            1129252864\n",
    "        ],\n",
    "        \"Average PSS\": [\n",
    "            1067021312\n",
    "        ],\n",
    "        \"IObytesWritten_Bytes\": [\n",
    "            23691264\n",
    "        ],\n",
    "        \"modificationtime\": [\n",
    "            1496645990000\n",
    "        ],\n",
    "        \"wall_time_cores_h\": [\n",
    "            0.3383333333333333\n",
    "        ],\n",
    "        \"Max_PSS_per_core\": [\n",
    "            1445684224\n",
    "        ],\n",
    "        \"starttime\": [\n",
    "            1496644171000\n",
    "        ],\n",
    "        \"TotalJobTime\": [\n",
    "            2828\n",
    "        ],\n",
    "        \"IOcharRead_Bytes\": [\n",
    "            771997696\n",
    "        ],\n",
    "        \"dbRate\": [\n",
    "            0.26031049371244186\n",
    "        ],\n",
    "        \"Wall time per event times core\": [\n",
    "            0.31206764027671025\n",
    "        ],\n",
    "        \"trf_scripted\": [\n",
    "            \"runAthena-00-00-11\"\n",
    "        ],\n",
    "        \"Average VMEM\": [\n",
    "            2810336256\n",
    "        ],\n",
    "        \"cpueff_per_core_painless\": [\n",
    "            0.6847290640394089\n",
    "        ],\n",
    "        \"Max VMEM\": [\n",
    "            3372728320\n",
    "        ],\n",
    "        \"infile_proj\": [\n",
    "            \"data15_13TeV\"\n",
    "        ],\n",
    "        \"CPU eff per core * 100\": [\n",
    "            68.47290396690369\n",
    "        ],\n",
    "        \"Max PSS\": [\n",
    "            1445684224\n",
    "        ],\n",
    "        \"statechangetime\": [\n",
    "            1496645990000\n",
    "        ],\n",
    "        \"Max RSS\": [\n",
    "            1519009792\n",
    "        ],\n",
    "        \"endtime\": [\n",
    "            1496645389000\n",
    "        ],\n",
    "        \"temp_timeOther\": [\n",
    "            148\n",
    "        ],\n",
    "        \"CPU eff per core\": [\n",
    "            0.6847290396690369\n",
    "        ],\n",
    "        \"sharedmem\": [\n",
    "            71607\n",
    "        ],\n",
    "        \"CPU eff of 40 core jobs\": [\n",
    "            0.01711822599172592\n",
    "        ],\n",
    "        \"CPU eff of 8 core jobs\": [\n",
    "            0.08559112995862961\n",
    "        ],\n",
    "        \"IOcharWritten_Bytes\": [\n",
    "            18204672\n",
    "        ],\n",
    "        \"Wall time per event * 10\": [\n",
    "            3.1206764027671023\n",
    "        ],\n",
    "        \"cputimeperevent\": [\n",
    "            0.21368178324365872\n",
    "        ],\n",
    "        \"IObytesRead_Bytes\": [\n",
    "            3227594752\n",
    "        ],\n",
    "        \"cpueff_per_core_over_timeExe\": [\n",
    "            80.34682080924856\n",
    "        ],\n",
    "        \"inputRate\": [\n",
    "            48498613.11764706\n",
    "        ],\n",
    "        \"cputimeperevent seconds\": [\n",
    "            0.21368178324365872\n",
    "        ],\n",
    "        \"cpu_eff_wen\": [\n",
    "            0.6847290640394089\n",
    "        ],\n",
    "        \"Walltime times core\": [\n",
    "            1218\n",
    "        ],\n",
    "        \"creationtime\": [\n",
    "            1496642561000\n",
    "        ],\n",
    "        \"Wall time per event\": [\n",
    "            0.31206764027671025\n",
    "        ],\n",
    "        \"top_country\": [\n",
    "            null\n",
    "        ],\n",
    "        \"CPU eff of 6 core jobs\": [\n",
    "            11.41214609629035\n",
    "        ],\n",
    "        \"timeExe_Core_Events\": [\n",
    "            0.26594926979246736\n",
    "        ]\n",
    "    },\n",
    "    \"sort\": [\n",
    "        1496645990000\n",
    "    ]\n",
    "}\n",
    "```"
   ]
  }
 ],
 "metadata": {
  "kernelspec": {
   "display_name": "Python 3",
   "language": "python",
   "name": "python3"
  },
  "language_info": {
   "codemirror_mode": {
    "name": "ipython",
    "version": 3
   },
   "file_extension": ".py",
   "mimetype": "text/x-python",
   "name": "python",
   "nbconvert_exporter": "python",
   "pygments_lexer": "ipython3",
   "version": "3.5.2"
  }
 },
 "nbformat": 4,
 "nbformat_minor": 1
}
