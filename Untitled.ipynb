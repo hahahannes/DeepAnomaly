{
 "cells": [
  {
   "cell_type": "code",
   "execution_count": 2,
   "metadata": {
    "collapsed": false
   },
   "outputs": [],
   "source": [
    "import numpy as np\n",
    "import pandas as pd\n",
    "import matplotlib.pyplot as plt\n"
   ]
  },
  {
   "cell_type": "code",
   "execution_count": 3,
   "metadata": {
    "collapsed": true
   },
   "outputs": [],
   "source": [
    "data=pd.read_csv('rucio_transfer-events-2017.08.06.csv')"
   ]
  },
  {
   "cell_type": "code",
   "execution_count": 4,
   "metadata": {
    "collapsed": false
   },
   "outputs": [
    {
     "name": "stdout",
     "output_type": "stream",
     "text": [
      "<class 'pandas.core.frame.DataFrame'>\n",
      "RangeIndex: 959439 entries, 0 to 959438\n",
      "Data columns (total 14 columns):\n",
      "submitted_at         959439 non-null object\n",
      "bytes                959439 non-null int64\n",
      "delay                959439 non-null int64\n",
      "activity             959439 non-null object\n",
      "dst-rse              959439 non-null object\n",
      "dst-type             959439 non-null object\n",
      "protocol             959439 non-null object\n",
      "src-rse              959439 non-null object\n",
      "src-type             959439 non-null object\n",
      "transfer-endpoint    959439 non-null object\n",
      "duration             959439 non-null int64\n",
      "prediction           959439 non-null float64\n",
      "name                 959439 non-null object\n",
      "scope                959439 non-null object\n",
      "dtypes: float64(1), int64(3), object(10)\n",
      "memory usage: 102.5+ MB\n"
     ]
    }
   ],
   "source": [
    "# ((df.p - df.x) ** 2).mean() ** .5\n",
    "data.info()"
   ]
  },
  {
   "cell_type": "code",
   "execution_count": 5,
   "metadata": {
    "collapsed": false
   },
   "outputs": [
    {
     "data": {
      "text/plain": [
       "279.68912198531433"
      ]
     },
     "execution_count": 5,
     "metadata": {},
     "output_type": "execute_result"
    }
   ],
   "source": [
    "rmse=((data['duration'] - data['prediction']) ** 2).mean() ** .5\n",
    "rmse"
   ]
  },
  {
   "cell_type": "code",
   "execution_count": null,
   "metadata": {
    "collapsed": true
   },
   "outputs": [],
   "source": []
  }
 ],
 "metadata": {
  "kernelspec": {
   "display_name": "Python 3",
   "language": "python",
   "name": "python3"
  },
  "language_info": {
   "codemirror_mode": {
    "name": "ipython",
    "version": 3
   },
   "file_extension": ".py",
   "mimetype": "text/x-python",
   "name": "python",
   "nbconvert_exporter": "python",
   "pygments_lexer": "ipython3",
   "version": "3.5.2"
  },
  "widgets": {
   "state": {},
   "version": "1.1.2"
  }
 },
 "nbformat": 4,
 "nbformat_minor": 2
}
